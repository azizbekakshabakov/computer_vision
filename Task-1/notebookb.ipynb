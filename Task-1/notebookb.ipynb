{
 "cells": [
  {
   "cell_type": "code",
   "execution_count": 2,
   "id": "5b39e253",
   "metadata": {
    "_cell_guid": "b1076dfc-b9ad-4769-8c92-a6c4dae69d19",
    "_uuid": "8f2839f25d086af736a60e9eeb907d3b93b6e0e5",
    "papermill": {
     "duration": 0.471383,
     "end_time": "2024-09-16T11:12:21.673758",
     "exception": false,
     "start_time": "2024-09-16T11:12:21.202375",
     "status": "completed"
    },
    "tags": []
   },
   "outputs": [],
   "source": [
    "# This Python 3 environment comes with many helpful analytics libraries installed\n",
    "# It is defined by the kaggle/python Docker image: https://github.com/kaggle/docker-python\n",
    "# For example, here's several helpful packages to load\n",
    "\n",
    "import numpy as np # linear algebra\n",
    "import pandas as pd # data processing, CSV file I/O (e.g. pd.read_csv)\n",
    "\n",
    "# Input data files are available in the read-only \"../input/\" directory\n",
    "# For example, running this (by clicking run or pressing Shift+Enter) will list all files under the input directory\n",
    "\n",
    "import os\n",
    "\n",
    "# You can write up to 20GB to the current directory (/kaggle/working/) that gets preserved as output when you create a version using \"Save & Run All\" \n",
    "# You can also write temporary files to /kaggle/temp/, but they won't be saved outside of the current session"
   ]
  },
  {
   "cell_type": "code",
   "execution_count": 3,
   "id": "d6c10231",
   "metadata": {
    "papermill": {
     "duration": 7.123655,
     "end_time": "2024-09-16T11:12:28.803763",
     "exception": false,
     "start_time": "2024-09-16T11:12:21.680108",
     "status": "completed"
    },
    "tags": []
   },
   "outputs": [
    {
     "data": {
      "text/html": [
       "<div>\n",
       "<style scoped>\n",
       "    .dataframe tbody tr th:only-of-type {\n",
       "        vertical-align: middle;\n",
       "    }\n",
       "\n",
       "    .dataframe tbody tr th {\n",
       "        vertical-align: top;\n",
       "    }\n",
       "\n",
       "    .dataframe thead th {\n",
       "        text-align: right;\n",
       "    }\n",
       "</style>\n",
       "<table border=\"1\" class=\"dataframe\">\n",
       "  <thead>\n",
       "    <tr style=\"text-align: right;\">\n",
       "      <th></th>\n",
       "      <th>label</th>\n",
       "      <th>pixel1</th>\n",
       "      <th>pixel2</th>\n",
       "      <th>pixel3</th>\n",
       "      <th>pixel4</th>\n",
       "      <th>pixel5</th>\n",
       "      <th>pixel6</th>\n",
       "      <th>pixel7</th>\n",
       "      <th>pixel8</th>\n",
       "      <th>pixel9</th>\n",
       "      <th>...</th>\n",
       "      <th>pixel775</th>\n",
       "      <th>pixel776</th>\n",
       "      <th>pixel777</th>\n",
       "      <th>pixel778</th>\n",
       "      <th>pixel779</th>\n",
       "      <th>pixel780</th>\n",
       "      <th>pixel781</th>\n",
       "      <th>pixel782</th>\n",
       "      <th>pixel783</th>\n",
       "      <th>pixel784</th>\n",
       "    </tr>\n",
       "  </thead>\n",
       "  <tbody>\n",
       "    <tr>\n",
       "      <th>0</th>\n",
       "      <td>2</td>\n",
       "      <td>0</td>\n",
       "      <td>0</td>\n",
       "      <td>0</td>\n",
       "      <td>0</td>\n",
       "      <td>0</td>\n",
       "      <td>0</td>\n",
       "      <td>0</td>\n",
       "      <td>0</td>\n",
       "      <td>0</td>\n",
       "      <td>...</td>\n",
       "      <td>0</td>\n",
       "      <td>0</td>\n",
       "      <td>0</td>\n",
       "      <td>0</td>\n",
       "      <td>0</td>\n",
       "      <td>0</td>\n",
       "      <td>0</td>\n",
       "      <td>0</td>\n",
       "      <td>0</td>\n",
       "      <td>0</td>\n",
       "    </tr>\n",
       "    <tr>\n",
       "      <th>1</th>\n",
       "      <td>9</td>\n",
       "      <td>0</td>\n",
       "      <td>0</td>\n",
       "      <td>0</td>\n",
       "      <td>0</td>\n",
       "      <td>0</td>\n",
       "      <td>0</td>\n",
       "      <td>0</td>\n",
       "      <td>0</td>\n",
       "      <td>0</td>\n",
       "      <td>...</td>\n",
       "      <td>0</td>\n",
       "      <td>0</td>\n",
       "      <td>0</td>\n",
       "      <td>0</td>\n",
       "      <td>0</td>\n",
       "      <td>0</td>\n",
       "      <td>0</td>\n",
       "      <td>0</td>\n",
       "      <td>0</td>\n",
       "      <td>0</td>\n",
       "    </tr>\n",
       "    <tr>\n",
       "      <th>2</th>\n",
       "      <td>6</td>\n",
       "      <td>0</td>\n",
       "      <td>0</td>\n",
       "      <td>0</td>\n",
       "      <td>0</td>\n",
       "      <td>0</td>\n",
       "      <td>0</td>\n",
       "      <td>0</td>\n",
       "      <td>5</td>\n",
       "      <td>0</td>\n",
       "      <td>...</td>\n",
       "      <td>0</td>\n",
       "      <td>0</td>\n",
       "      <td>0</td>\n",
       "      <td>30</td>\n",
       "      <td>43</td>\n",
       "      <td>0</td>\n",
       "      <td>0</td>\n",
       "      <td>0</td>\n",
       "      <td>0</td>\n",
       "      <td>0</td>\n",
       "    </tr>\n",
       "    <tr>\n",
       "      <th>3</th>\n",
       "      <td>0</td>\n",
       "      <td>0</td>\n",
       "      <td>0</td>\n",
       "      <td>0</td>\n",
       "      <td>1</td>\n",
       "      <td>2</td>\n",
       "      <td>0</td>\n",
       "      <td>0</td>\n",
       "      <td>0</td>\n",
       "      <td>0</td>\n",
       "      <td>...</td>\n",
       "      <td>3</td>\n",
       "      <td>0</td>\n",
       "      <td>0</td>\n",
       "      <td>0</td>\n",
       "      <td>0</td>\n",
       "      <td>1</td>\n",
       "      <td>0</td>\n",
       "      <td>0</td>\n",
       "      <td>0</td>\n",
       "      <td>0</td>\n",
       "    </tr>\n",
       "    <tr>\n",
       "      <th>4</th>\n",
       "      <td>3</td>\n",
       "      <td>0</td>\n",
       "      <td>0</td>\n",
       "      <td>0</td>\n",
       "      <td>0</td>\n",
       "      <td>0</td>\n",
       "      <td>0</td>\n",
       "      <td>0</td>\n",
       "      <td>0</td>\n",
       "      <td>0</td>\n",
       "      <td>...</td>\n",
       "      <td>0</td>\n",
       "      <td>0</td>\n",
       "      <td>0</td>\n",
       "      <td>0</td>\n",
       "      <td>0</td>\n",
       "      <td>0</td>\n",
       "      <td>0</td>\n",
       "      <td>0</td>\n",
       "      <td>0</td>\n",
       "      <td>0</td>\n",
       "    </tr>\n",
       "    <tr>\n",
       "      <th>...</th>\n",
       "      <td>...</td>\n",
       "      <td>...</td>\n",
       "      <td>...</td>\n",
       "      <td>...</td>\n",
       "      <td>...</td>\n",
       "      <td>...</td>\n",
       "      <td>...</td>\n",
       "      <td>...</td>\n",
       "      <td>...</td>\n",
       "      <td>...</td>\n",
       "      <td>...</td>\n",
       "      <td>...</td>\n",
       "      <td>...</td>\n",
       "      <td>...</td>\n",
       "      <td>...</td>\n",
       "      <td>...</td>\n",
       "      <td>...</td>\n",
       "      <td>...</td>\n",
       "      <td>...</td>\n",
       "      <td>...</td>\n",
       "      <td>...</td>\n",
       "    </tr>\n",
       "    <tr>\n",
       "      <th>59995</th>\n",
       "      <td>9</td>\n",
       "      <td>0</td>\n",
       "      <td>0</td>\n",
       "      <td>0</td>\n",
       "      <td>0</td>\n",
       "      <td>0</td>\n",
       "      <td>0</td>\n",
       "      <td>0</td>\n",
       "      <td>0</td>\n",
       "      <td>0</td>\n",
       "      <td>...</td>\n",
       "      <td>0</td>\n",
       "      <td>0</td>\n",
       "      <td>0</td>\n",
       "      <td>0</td>\n",
       "      <td>0</td>\n",
       "      <td>0</td>\n",
       "      <td>0</td>\n",
       "      <td>0</td>\n",
       "      <td>0</td>\n",
       "      <td>0</td>\n",
       "    </tr>\n",
       "    <tr>\n",
       "      <th>59996</th>\n",
       "      <td>1</td>\n",
       "      <td>0</td>\n",
       "      <td>0</td>\n",
       "      <td>0</td>\n",
       "      <td>0</td>\n",
       "      <td>0</td>\n",
       "      <td>0</td>\n",
       "      <td>0</td>\n",
       "      <td>0</td>\n",
       "      <td>0</td>\n",
       "      <td>...</td>\n",
       "      <td>73</td>\n",
       "      <td>0</td>\n",
       "      <td>0</td>\n",
       "      <td>0</td>\n",
       "      <td>0</td>\n",
       "      <td>0</td>\n",
       "      <td>0</td>\n",
       "      <td>0</td>\n",
       "      <td>0</td>\n",
       "      <td>0</td>\n",
       "    </tr>\n",
       "    <tr>\n",
       "      <th>59997</th>\n",
       "      <td>8</td>\n",
       "      <td>0</td>\n",
       "      <td>0</td>\n",
       "      <td>0</td>\n",
       "      <td>0</td>\n",
       "      <td>0</td>\n",
       "      <td>0</td>\n",
       "      <td>0</td>\n",
       "      <td>0</td>\n",
       "      <td>0</td>\n",
       "      <td>...</td>\n",
       "      <td>160</td>\n",
       "      <td>162</td>\n",
       "      <td>163</td>\n",
       "      <td>135</td>\n",
       "      <td>94</td>\n",
       "      <td>0</td>\n",
       "      <td>0</td>\n",
       "      <td>0</td>\n",
       "      <td>0</td>\n",
       "      <td>0</td>\n",
       "    </tr>\n",
       "    <tr>\n",
       "      <th>59998</th>\n",
       "      <td>8</td>\n",
       "      <td>0</td>\n",
       "      <td>0</td>\n",
       "      <td>0</td>\n",
       "      <td>0</td>\n",
       "      <td>0</td>\n",
       "      <td>0</td>\n",
       "      <td>0</td>\n",
       "      <td>0</td>\n",
       "      <td>0</td>\n",
       "      <td>...</td>\n",
       "      <td>0</td>\n",
       "      <td>0</td>\n",
       "      <td>0</td>\n",
       "      <td>0</td>\n",
       "      <td>0</td>\n",
       "      <td>0</td>\n",
       "      <td>0</td>\n",
       "      <td>0</td>\n",
       "      <td>0</td>\n",
       "      <td>0</td>\n",
       "    </tr>\n",
       "    <tr>\n",
       "      <th>59999</th>\n",
       "      <td>7</td>\n",
       "      <td>0</td>\n",
       "      <td>0</td>\n",
       "      <td>0</td>\n",
       "      <td>0</td>\n",
       "      <td>0</td>\n",
       "      <td>0</td>\n",
       "      <td>0</td>\n",
       "      <td>0</td>\n",
       "      <td>0</td>\n",
       "      <td>...</td>\n",
       "      <td>0</td>\n",
       "      <td>0</td>\n",
       "      <td>0</td>\n",
       "      <td>0</td>\n",
       "      <td>0</td>\n",
       "      <td>0</td>\n",
       "      <td>0</td>\n",
       "      <td>0</td>\n",
       "      <td>0</td>\n",
       "      <td>0</td>\n",
       "    </tr>\n",
       "  </tbody>\n",
       "</table>\n",
       "<p>60000 rows × 785 columns</p>\n",
       "</div>"
      ],
      "text/plain": [
       "       label  pixel1  pixel2  pixel3  pixel4  pixel5  pixel6  pixel7  pixel8  \\\n",
       "0          2       0       0       0       0       0       0       0       0   \n",
       "1          9       0       0       0       0       0       0       0       0   \n",
       "2          6       0       0       0       0       0       0       0       5   \n",
       "3          0       0       0       0       1       2       0       0       0   \n",
       "4          3       0       0       0       0       0       0       0       0   \n",
       "...      ...     ...     ...     ...     ...     ...     ...     ...     ...   \n",
       "59995      9       0       0       0       0       0       0       0       0   \n",
       "59996      1       0       0       0       0       0       0       0       0   \n",
       "59997      8       0       0       0       0       0       0       0       0   \n",
       "59998      8       0       0       0       0       0       0       0       0   \n",
       "59999      7       0       0       0       0       0       0       0       0   \n",
       "\n",
       "       pixel9  ...  pixel775  pixel776  pixel777  pixel778  pixel779  \\\n",
       "0           0  ...         0         0         0         0         0   \n",
       "1           0  ...         0         0         0         0         0   \n",
       "2           0  ...         0         0         0        30        43   \n",
       "3           0  ...         3         0         0         0         0   \n",
       "4           0  ...         0         0         0         0         0   \n",
       "...       ...  ...       ...       ...       ...       ...       ...   \n",
       "59995       0  ...         0         0         0         0         0   \n",
       "59996       0  ...        73         0         0         0         0   \n",
       "59997       0  ...       160       162       163       135        94   \n",
       "59998       0  ...         0         0         0         0         0   \n",
       "59999       0  ...         0         0         0         0         0   \n",
       "\n",
       "       pixel780  pixel781  pixel782  pixel783  pixel784  \n",
       "0             0         0         0         0         0  \n",
       "1             0         0         0         0         0  \n",
       "2             0         0         0         0         0  \n",
       "3             1         0         0         0         0  \n",
       "4             0         0         0         0         0  \n",
       "...         ...       ...       ...       ...       ...  \n",
       "59995         0         0         0         0         0  \n",
       "59996         0         0         0         0         0  \n",
       "59997         0         0         0         0         0  \n",
       "59998         0         0         0         0         0  \n",
       "59999         0         0         0         0         0  \n",
       "\n",
       "[60000 rows x 785 columns]"
      ]
     },
     "execution_count": 3,
     "metadata": {},
     "output_type": "execute_result"
    }
   ],
   "source": [
    "import pandas as pd\n",
    "df = pd.read_csv(\"fashion-mnist_train.csv\")\n",
    "df"
   ]
  },
  {
   "cell_type": "code",
   "execution_count": 4,
   "id": "d7accce1",
   "metadata": {
    "papermill": {
     "duration": 0.019815,
     "end_time": "2024-09-16T11:12:28.830522",
     "exception": false,
     "start_time": "2024-09-16T11:12:28.810707",
     "status": "completed"
    },
    "tags": []
   },
   "outputs": [
    {
     "data": {
      "text/plain": [
       "(28, 28)"
      ]
     },
     "execution_count": 4,
     "metadata": {},
     "output_type": "execute_result"
    }
   ],
   "source": [
    "first_image = df.iloc[0].tolist()[1:]\n",
    "#\" \".join( [str(item) for item in first_image])\n",
    "first_image = np.reshape(first_image, (-1, 28))\n",
    "first_image.shape"
   ]
  },
  {
   "cell_type": "code",
   "execution_count": 5,
   "id": "a1accf90",
   "metadata": {
    "papermill": {
     "duration": 0.029471,
     "end_time": "2024-09-16T11:12:28.867123",
     "exception": false,
     "start_time": "2024-09-16T11:12:28.837652",
     "status": "completed"
    },
    "tags": []
   },
   "outputs": [
    {
     "data": {
      "image/jpeg": "[encoded data removed]",
      "image/png": "[encoded data removed]",
      "text/plain": [
       "<PIL.Image.Image image mode=L size=28x28>"
      ]
     },
     "execution_count": 5,
     "metadata": {},
     "output_type": "execute_result"
    }
   ],
   "source": [
    "from PIL import Image\n",
    "import numpy as np\n",
    "\n",
    "\n",
    "pixels = first_image\n",
    "\n",
    "# Convert the pixels into an array using numpy\n",
    "array = np.array(pixels, dtype=np.uint8)\n",
    "\n",
    "# Use PIL to create an image from the new array of pixels\n",
    "new_image = Image.fromarray(array)\n",
    "new_image"
   ]
  },
  {
   "cell_type": "code",
   "execution_count": 6,
   "id": "b3076bbc",
   "metadata": {
    "papermill": {
     "duration": 0.037276,
     "end_time": "2024-09-16T11:12:28.911703",
     "exception": false,
     "start_time": "2024-09-16T11:12:28.874427",
     "status": "completed"
    },
    "tags": []
   },
   "outputs": [
    {
     "data": {
      "image/jpeg": "[encoded data removed]",
      "image/png": "[encoded data removed]",
      "text/plain": [
       "<PIL.Image.Image image mode=L size=28x28>"
      ]
     },
     "metadata": {},
     "output_type": "display_data"
    },
    {
     "data": {
      "image/jpeg": "[encoded data removed]",
      "image/png": "[encoded data removed]",
      "text/plain": [
       "<PIL.Image.Image image mode=L size=28x28>"
      ]
     },
     "metadata": {},
     "output_type": "display_data"
    },
    {
     "data": {
      "image/jpeg": "[encoded data removed]",
      "image/png": "[encoded data removed]",
      "text/plain": [
       "<PIL.Image.Image image mode=L size=28x28>"
      ]
     },
     "metadata": {},
     "output_type": "display_data"
    },
    {
     "data": {
      "image/jpeg": "[encoded data removed]",
      "image/png": "[encoded data removed]",
      "text/plain": [
       "<PIL.Image.Image image mode=L size=28x28>"
      ]
     },
     "metadata": {},
     "output_type": "display_data"
    },
    {
     "data": {
      "image/jpeg": "[encoded data removed]",
      "image/png": "[encoded data removed]",
      "text/plain": [
       "<PIL.Image.Image image mode=L size=28x28>"
      ]
     },
     "metadata": {},
     "output_type": "display_data"
    }
   ],
   "source": [
    "#first_image = df.iloc[0].tolist()[1:]\n",
    "images_df = df.sample(n=5,random_state=42)\n",
    "for i,row in images_df.iterrows():\n",
    "#\" \".join( [str(item) for item in first_image])\n",
    "    im_pixels = row.tolist()[1:]\n",
    "    pixels = np.reshape(im_pixels, (-1, 28))\n",
    "    array = np.array(pixels, dtype=np.uint8)\n",
    "    new_image = Image.fromarray(array)\n",
    "    display(new_image)"
   ]
  },
  {
   "cell_type": "code",
   "execution_count": 7,
   "id": "bb6c80b3",
   "metadata": {
    "papermill": {
     "duration": 0.068434,
     "end_time": "2024-09-16T11:12:28.988289",
     "exception": false,
     "start_time": "2024-09-16T11:12:28.919855",
     "status": "completed"
    },
    "tags": []
   },
   "outputs": [
    {
     "data": {
      "image/jpeg": "[encoded data removed]",
      "image/png": "[encoded data removed]",
      "text/plain": [
       "<PIL.Image.Image image mode=L size=28x28>"
      ]
     },
     "metadata": {},
     "output_type": "display_data"
    },
    {
     "data": {
      "image/jpeg": "[encoded data removed]",
      "image/png": "[encoded data removed]",
      "text/plain": [
       "<PIL.Image.Image image mode=L size=28x28>"
      ]
     },
     "metadata": {},
     "output_type": "display_data"
    },
    {
     "data": {
      "image/jpeg": "[encoded data removed]",
      "image/png": "[encoded data removed]",
      "text/plain": [
       "<PIL.Image.Image image mode=L size=28x28>"
      ]
     },
     "metadata": {},
     "output_type": "display_data"
    },
    {
     "data": {
      "image/jpeg": "[encoded data removed]",
      "image/png": "[encoded data removed]",
      "text/plain": [
       "<PIL.Image.Image image mode=L size=28x28>"
      ]
     },
     "metadata": {},
     "output_type": "display_data"
    },
    {
     "data": {
      "image/jpeg": "[encoded data removed]",
      "image/png": "[encoded data removed]",
      "text/plain": [
       "<PIL.Image.Image image mode=L size=28x28>"
      ]
     },
     "metadata": {},
     "output_type": "display_data"
    }
   ],
   "source": [
    "tshirts_df = df[df['label']==0]\n",
    "images_df = tshirts_df.sample(n=5,random_state=42)\n",
    "for i,row in images_df.iterrows():\n",
    "#\" \".join( [str(item) for item in first_image])\n",
    "    im_pixels = row.tolist()[1:]\n",
    "    pixels = np.reshape(im_pixels, (-1, 28))\n",
    "    array = np.array(pixels, dtype=np.uint8)\n",
    "    new_image = Image.fromarray(array)\n",
    "    display(new_image)\n",
    "    \n"
   ]
  },
  {
   "cell_type": "code",
   "execution_count": 8,
   "id": "9b53aaa4",
   "metadata": {
    "papermill": {
     "duration": 0.07776,
     "end_time": "2024-09-16T11:12:29.074795",
     "exception": false,
     "start_time": "2024-09-16T11:12:28.997035",
     "status": "completed"
    },
    "tags": []
   },
   "outputs": [
    {
     "data": {
      "image/jpeg": "[encoded data removed]",
      "image/png": "[encoded data removed]",
      "text/plain": [
       "<PIL.Image.Image image mode=L size=28x28>"
      ]
     },
     "metadata": {},
     "output_type": "display_data"
    },
    {
     "data": {
      "image/jpeg": "[encoded data removed]",
      "image/png": "[encoded data removed]",
      "text/plain": [
       "<PIL.Image.Image image mode=L size=28x28>"
      ]
     },
     "metadata": {},
     "output_type": "display_data"
    },
    {
     "data": {
      "image/jpeg": "[encoded data removed]",
      "image/png": "[encoded data removed]",
      "text/plain": [
       "<PIL.Image.Image image mode=L size=28x28>"
      ]
     },
     "metadata": {},
     "output_type": "display_data"
    },
    {
     "data": {
      "image/jpeg": "[encoded data removed]",
      "image/png": "[encoded data removed]",
      "text/plain": [
       "<PIL.Image.Image image mode=L size=28x28>"
      ]
     },
     "metadata": {},
     "output_type": "display_data"
    },
    {
     "data": {
      "image/jpeg": "[encoded data removed]",
      "image/png": "[encoded data removed]",
      "text/plain": [
       "<PIL.Image.Image image mode=L size=28x28>"
      ]
     },
     "metadata": {},
     "output_type": "display_data"
    }
   ],
   "source": [
    "sandal_df = df[df['label']==5]\n",
    "images_df = tshirts_df.sample(n=5,random_state=42)\n",
    "\n",
    "def drawImageFromRow(row):\n",
    "    im_pixels = row.tolist()[1:]\n",
    "    pixels = np.reshape(im_pixels, (-1, 28))\n",
    "    array = np.array(pixels, dtype=np.uint8)\n",
    "    return Image.fromarray(array) \n",
    "    \n",
    "for i,row in images_df.iterrows():\n",
    "#\" \".join( [str(item) for item in first_image])\n",
    "    new_image = drawImageFromRow(row)\n",
    "    display(new_image)\n",
    "    \n"
   ]
  },
  {
   "cell_type": "code",
   "execution_count": 9,
   "id": "0e7e9b84",
   "metadata": {
    "papermill": {
     "duration": 1.183343,
     "end_time": "2024-09-16T11:12:30.267727",
     "exception": false,
     "start_time": "2024-09-16T11:12:29.084384",
     "status": "completed"
    },
    "tags": []
   },
   "outputs": [
    {
     "data": {
      "image/jpeg": "[encoded data removed]",
      "image/png": "[encoded data removed]",
      "text/plain": [
       "<PIL.Image.Image image mode=L size=28x28>"
      ]
     },
     "execution_count": 9,
     "metadata": {},
     "output_type": "execute_result"
    }
   ],
   "source": [
    "test_df = pd.read_csv(\"fashion-mnist_test.csv\")\n",
    "test_df.iloc[0]\n",
    "drawImageFromRow(test_df.iloc[0])"
   ]
  },
  {
   "cell_type": "code",
   "execution_count": 10,
   "id": "905a62d2",
   "metadata": {
    "papermill": {
     "duration": 0.021756,
     "end_time": "2024-09-16T11:12:30.299288",
     "exception": false,
     "start_time": "2024-09-16T11:12:30.277532",
     "status": "completed"
    },
    "tags": []
   },
   "outputs": [
    {
     "name": "stdout",
     "output_type": "stream",
     "text": [
      "[0, 0, 0, 0, 0, 0, 0, 9, 8, 0, 0, 34, 29, 7, 0, 11, 24, 0, 0, 3, 3, 1, 0, 1, 1, 0, 0, 0, 0, 0, 4, 0, 0, 1, 0, 0, 0, 0, 0, 44, 88, 99, 122, 123, 80, 0, 0, 0, 0, 1, 1, 1, 0, 0, 0, 0, 0, 0, 1, 2, 0, 0, 0, 3, 46, 174, 249, 67, 0, 94, 210, 61, 14, 212, 157, 37, 0, 0, 0, 0, 1, 0, 0, 0, 0, 0, 2, 2, 0, 23, 168, 206, 242, 239, 238, 214, 125, 61, 113, 74, 133, 236, 238, 236, 203, 184, 20, 0, 1, 0, 0, 0, 0, 0, 1, 0, 0, 175, 245, 223, 207, 205, 206, 216, 255, 237, 251, 232, 223, 212, 200, 205, 216, 249, 173, 0, 0, 2, 0, 0, 0, 0, 7, 0, 53, 225, 201, 197, 200, 201, 206, 199, 197, 185, 194, 204, 232, 226, 249, 219, 194, 205, 229, 33, 0, 1, 0, 0, 0, 0, 1, 0, 133, 223, 208, 192, 195, 233, 226, 216, 191, 210, 188, 236, 186, 0, 50, 234, 207, 208, 231, 133, 0, 0, 0, 0, 0, 0, 0, 0, 216, 218, 216, 194, 229, 172, 64, 219, 201, 200, 200, 247, 68, 72, 54, 165, 237, 212, 219, 226, 0, 0, 0, 0, 0, 0, 0, 50, 221, 207, 220, 211, 207, 165, 138, 205, 192, 191, 190, 232, 119, 113, 67, 173, 237, 217, 208, 221, 29, 0, 0, 0, 0, 0, 0, 131, 216, 200, 219, 207, 212, 231, 226, 193, 214, 224, 206, 203, 230, 122, 112, 234, 224, 214, 204, 224, 123, 0, 0, 0, 0, 0, 0, 195, 212, 204, 211, 203, 205, 200, 184, 213, 162, 138, 193, 207, 203, 231, 245, 208, 220, 211, 203, 219, 179, 0, 0, 0, 0, 0, 8, 185, 191, 218, 233, 219, 201, 221, 213, 246, 114, 127, 80, 129, 232, 198, 218, 207, 236, 227, 220, 216, 172, 21, 0, 0, 0, 0, 21, 4, 5, 64, 160, 224, 224, 144, 187, 197, 211, 207, 186, 192, 210, 212, 218, 225, 236, 177, 106, 56, 28, 1, 0, 0, 0, 0, 1, 1, 0, 2, 0, 116, 252, 96, 120, 51, 73, 70, 123, 79, 76, 64, 162, 252, 118, 1, 3, 0, 4, 2, 0, 0, 0, 0, 0, 0, 0, 0, 0, 115, 226, 145, 170, 155, 165, 161, 159, 125, 175, 140, 174, 236, 95, 0, 2, 2, 0, 0, 0, 0, 0, 0, 0, 0, 1, 2, 0, 131, 225, 204, 217, 221, 220, 217, 224, 231, 226, 237, 203, 237, 102, 0, 4, 2, 1, 2, 0, 0, 0, 0, 1, 1, 0, 3, 0, 135, 223, 201, 199, 194, 198, 195, 198, 192, 203, 199, 207, 231, 112, 0, 4, 0, 0, 0, 0, 0, 0, 0, 1, 1, 0, 1, 0, 134, 223, 199, 206, 199, 201, 200, 203, 206, 207, 210, 206, 227, 119, 0, 3, 0, 0, 1, 0, 0, 0, 0, 0, 0, 0, 1, 0, 139, 223, 198, 204, 200, 201, 200, 201, 204, 206, 208, 206, 229, 128, 0, 4, 0, 0, 0, 0, 0, 0, 0, 0, 0, 0, 1, 0, 145, 223, 195, 205, 201, 201, 200, 204, 204, 206, 211, 205, 230, 139, 0, 2, 0, 0, 0, 0, 0, 0, 0, 1, 0, 1, 0, 0, 157, 221, 194, 204, 204, 201, 201, 203, 205, 208, 211, 204, 230, 148, 0, 2, 0, 1, 1, 0, 0, 0, 0, 1, 1, 1, 0, 0, 166, 220, 194, 203, 203, 205, 203, 203, 206, 207, 212, 204, 230, 157, 0, 2, 1, 1, 1, 0, 0, 0, 0, 0, 0, 0, 0, 0, 171, 221, 195, 206, 200, 199, 203, 203, 205, 206, 207, 204, 226, 181, 0, 0, 0, 0, 0, 0, 0, 0, 0, 0, 0, 1, 0, 0, 165, 224, 197, 201, 208, 199, 204, 205, 207, 210, 213, 207, 229, 187, 0, 1, 2, 0, 0, 0, 0, 0, 0, 0, 0, 0, 0, 0, 128, 201, 203, 201, 207, 211, 203, 205, 206, 210, 213, 205, 225, 191, 0, 0, 2, 0, 0, 0, 0, 0, 0, 0, 0, 1, 1, 0, 141, 201, 191, 188, 194, 187, 187, 191, 193, 195, 199, 199, 218, 161, 0, 0, 0, 0, 0, 0, 0, 0, 0, 0, 0, 0, 1, 0, 212, 240, 213, 239, 233, 239, 231, 232, 236, 242, 245, 224, 245, 234, 0, 3, 0, 0, 0, 0, 0, 0, 0, 0, 0, 0, 0, 0, 37, 69, 94, 123, 127, 138, 138, 142, 145, 135, 125, 103, 87, 56, 0, 0, 0, 0, 0, 0, 0]\n"
     ]
    }
   ],
   "source": [
    "test_image_list = test_df.iloc[0].tolist()[1:]\n",
    "print(test_image_list)"
   ]
  },
  {
   "cell_type": "code",
   "execution_count": 11,
   "id": "cc5af262",
   "metadata": {
    "papermill": {
     "duration": 0.021183,
     "end_time": "2024-09-16T11:12:30.330814",
     "exception": false,
     "start_time": "2024-09-16T11:12:30.309631",
     "status": "completed"
    },
    "tags": []
   },
   "outputs": [
    {
     "name": "stdout",
     "output_type": "stream",
     "text": [
      "[0, 0, 0, 0, 0, 0, 0, 0, 0, 0, 55, 96, 0, 0, 0, 0, 0, 38, 5, 0, 0, 0, 0, 0, 0, 0, 0, 0, 0, 0, 0, 0, 0, 0, 0, 51, 182, 180, 194, 175, 174, 140, 163, 151, 157, 193, 177, 189, 136, 6, 0, 0, 0, 0, 0, 0, 0, 0, 0, 0, 0, 0, 0, 78, 196, 181, 173, 166, 147, 154, 174, 165, 150, 158, 167, 175, 200, 83, 0, 0, 0, 0, 0, 0, 0, 0, 0, 0, 0, 0, 0, 15, 186, 181, 176, 181, 176, 170, 167, 154, 133, 135, 164, 187, 177, 21, 0, 0, 0, 0, 0, 0, 0, 0, 0, 0, 0, 0, 0, 27, 225, 172, 171, 152, 143, 107, 76, 98, 144, 189, 202, 207, 255, 8, 0, 0, 0, 0, 0, 0, 0, 0, 0, 0, 0, 0, 0, 16, 211, 153, 137, 112, 83, 103, 148, 182, 192, 195, 207, 201, 239, 9, 0, 0, 0, 0, 0, 0, 0, 0, 0, 0, 0, 0, 0, 17, 175, 98, 86, 98, 146, 188, 193, 187, 186, 183, 177, 175, 223, 11, 0, 0, 0, 0, 0, 0, 0, 0, 0, 0, 0, 0, 0, 25, 120, 87, 150, 178, 178, 185, 193, 185, 162, 158, 159, 157, 225, 11, 0, 0, 0, 0, 0, 0, 0, 0, 0, 0, 0, 0, 0, 34, 140, 173, 181, 178, 191, 190, 173, 162, 156, 146, 149, 173, 241, 7, 0, 0, 0, 0, 0, 0, 0, 0, 0, 0, 0, 0, 0, 29, 210, 173, 182, 195, 179, 159, 147, 142, 156, 168, 183, 202, 224, 0, 0, 0, 0, 0, 0, 0, 0, 0, 0, 0, 0, 0, 0, 22, 217, 176, 178, 158, 144, 126, 132, 162, 188, 193, 189, 199, 197, 0, 0, 0, 0, 0, 0, 0, 0, 0, 0, 0, 0, 0, 0, 10, 228, 166, 139, 124, 112, 146, 181, 197, 200, 181, 178, 202, 172, 0, 0, 0, 0, 0, 0, 0, 0, 0, 0, 0, 0, 0, 0, 17, 214, 124, 105, 136, 178, 195, 194, 186, 182, 186, 167, 201, 173, 0, 0, 0, 0, 0, 0, 0, 0, 0, 0, 0, 0, 0, 0, 5, 166, 115, 152, 189, 194, 187, 177, 185, 175, 152, 167, 232, 160, 0, 0, 0, 0, 0, 0, 0, 0, 0, 0, 0, 0, 0, 0, 0, 152, 171, 180, 186, 176, 180, 178, 157, 158, 194, 199, 223, 134, 0, 0, 0, 0, 0, 0, 0, 0, 0, 0, 0, 0, 0, 0, 0, 156, 193, 161, 177, 179, 165, 145, 177, 206, 205, 189, 224, 106, 0, 0, 0, 0, 0, 0, 0, 0, 0, 0, 0, 0, 0, 0, 0, 115, 193, 160, 164, 135, 161, 201, 206, 191, 192, 194, 228, 81, 0, 0, 0, 0, 0, 0, 0, 0, 0, 0, 0, 0, 0, 0, 0, 106, 227, 121, 135, 181, 208, 204, 195, 194, 205, 189, 210, 82, 0, 0, 0, 0, 0, 0, 0, 0, 0, 0, 0, 0, 0, 0, 0, 111, 171, 134, 191, 207, 195, 201, 202, 187, 191, 161, 202, 73, 0, 0, 0, 0, 0, 0, 0, 0, 0, 0, 0, 0, 0, 0, 0, 119, 173, 193, 189, 197, 199, 197, 190, 168, 167, 167, 208, 88, 0, 0, 0, 0, 0, 0, 0, 0, 0, 0, 0, 0, 0, 0, 0, 178, 204, 185, 191, 194, 188, 180, 167, 160, 180, 189, 216, 126, 0, 0, 0, 0, 0, 0, 0, 0, 0, 0, 0, 0, 0, 0, 0, 216, 203, 183, 181, 179, 163, 154, 181, 187, 185, 200, 220, 166, 0, 0, 0, 0, 0, 0, 0, 0, 0, 0, 0, 0, 0, 0, 9, 229, 191, 183, 161, 149, 158, 187, 191, 195, 190, 200, 231, 214, 0, 0, 0, 0, 0, 0, 0, 0, 0, 0, 0, 0, 0, 0, 63, 221, 185, 145, 139, 178, 187, 190, 200, 205, 208, 213, 211, 221, 0, 0, 0, 0, 0, 0, 0, 0, 0, 0, 0, 0, 0, 0, 106, 176, 117, 151, 176, 188, 193, 200, 206, 219, 215, 203, 203, 235, 25, 0, 0, 0, 0, 0, 0, 0, 0, 0, 0, 0, 0, 0, 124, 168, 170, 208, 202, 205, 205, 218, 209, 200, 206, 209, 217, 232, 72, 0, 0, 0, 0, 0, 0, 0, 0, 0, 0, 0, 0, 0, 162, 213, 209, 222, 217, 221, 232, 220, 207, 218, 227, 231, 221, 247, 142, 0, 0, 0, 0, 0, 0, 0, 0, 0, 0, 0, 0, 0, 94, 166, 182, 203, 203, 194, 175, 183, 205, 202, 188, 192, 176, 153, 51, 0, 0, 0, 0, 0, 0]\n"
     ]
    }
   ],
   "source": [
    "train1_image_list = images_df.iloc[0].tolist()[1:]\n",
    "print(train1_image_list)"
   ]
  },
  {
   "cell_type": "code",
   "execution_count": 12,
   "id": "ea694bfa",
   "metadata": {
    "papermill": {
     "duration": 0.021124,
     "end_time": "2024-09-16T11:12:30.362030",
     "exception": false,
     "start_time": "2024-09-16T11:12:30.340906",
     "status": "completed"
    },
    "tags": []
   },
   "outputs": [
    {
     "name": "stdout",
     "output_type": "stream",
     "text": [
      "31076\n"
     ]
    }
   ],
   "source": [
    "import math\n",
    "dist = 0\n",
    "for i in range(len(test_image_list)):\n",
    "    dist = dist + abs(train1_image_list[i]-test_image_list[i])\n",
    "print(dist)"
   ]
  },
  {
   "cell_type": "code",
   "execution_count": 13,
   "id": "ac7f77f5",
   "metadata": {
    "papermill": {
     "duration": 36.360864,
     "end_time": "2024-09-16T11:13:06.733035",
     "exception": false,
     "start_time": "2024-09-16T11:12:30.372171",
     "status": "completed"
    },
    "tags": []
   },
   "outputs": [
    {
     "name": "stdout",
     "output_type": "stream",
     "text": [
      "(60000, 785)\n"
     ]
    },
    {
     "data": {
      "text/plain": [
       "[{'image': <PIL.Image.Image image mode=L size=28x28>,\n",
       "  'dist': 14454,\n",
       "  'label': 0},\n",
       " {'image': <PIL.Image.Image image mode=L size=28x28>,\n",
       "  'dist': 14582,\n",
       "  'label': 0},\n",
       " {'image': <PIL.Image.Image image mode=L size=28x28>,\n",
       "  'dist': 14617,\n",
       "  'label': 6},\n",
       " {'image': <PIL.Image.Image image mode=L size=28x28>,\n",
       "  'dist': 15091,\n",
       "  'label': 0},\n",
       " {'image': <PIL.Image.Image image mode=L size=28x28>,\n",
       "  'dist': 15140,\n",
       "  'label': 0}]"
      ]
     },
     "execution_count": 13,
     "metadata": {},
     "output_type": "execute_result"
    }
   ],
   "source": [
    "print(df.shape)\n",
    "results = []\n",
    "for i,row in df[:].iterrows():\n",
    "    label = row.iloc[0]\n",
    "    image = drawImageFromRow(row)\n",
    "    #display(image)\n",
    "    dist = 0\n",
    "    train_image_list = row.tolist()[1:]\n",
    "    for i in range(len(test_image_list)):\n",
    "        dist = dist + abs(train_image_list[i]-test_image_list[i])\n",
    "    #print(dist)\n",
    "    results.append({\"image\":image,\"dist\":dist,\"label\":label})\n",
    "results\n",
    "top_5 = sorted(results, key=lambda d: d['dist'], reverse=False)[:5]\n",
    "top_5"
   ]
  },
  {
   "cell_type": "code",
   "execution_count": 14,
   "id": "10c4b496",
   "metadata": {
    "papermill": {
     "duration": 0.038149,
     "end_time": "2024-09-16T11:13:06.781414",
     "exception": false,
     "start_time": "2024-09-16T11:13:06.743265",
     "status": "completed"
    },
    "tags": []
   },
   "outputs": [
    {
     "name": "stdout",
     "output_type": "stream",
     "text": [
      "14454 0\n"
     ]
    },
    {
     "data": {
      "image/jpeg": "[encoded data removed]",
      "image/png": "[encoded data removed]",
      "text/plain": [
       "<PIL.Image.Image image mode=L size=28x28>"
      ]
     },
     "metadata": {},
     "output_type": "display_data"
    },
    {
     "name": "stdout",
     "output_type": "stream",
     "text": [
      "14582 0\n"
     ]
    },
    {
     "data": {
      "image/jpeg": "[encoded data removed]",
      "image/png": "[encoded data removed]",
      "text/plain": [
       "<PIL.Image.Image image mode=L size=28x28>"
      ]
     },
     "metadata": {},
     "output_type": "display_data"
    },
    {
     "name": "stdout",
     "output_type": "stream",
     "text": [
      "14617 6\n"
     ]
    },
    {
     "data": {
      "image/jpeg": "[encoded data removed]",
      "image/png": "[encoded data removed]",
      "text/plain": [
       "<PIL.Image.Image image mode=L size=28x28>"
      ]
     },
     "metadata": {},
     "output_type": "display_data"
    },
    {
     "name": "stdout",
     "output_type": "stream",
     "text": [
      "15091 0\n"
     ]
    },
    {
     "data": {
      "image/jpeg": "[encoded data removed]",
      "image/png": "[encoded data removed]",
      "text/plain": [
       "<PIL.Image.Image image mode=L size=28x28>"
      ]
     },
     "metadata": {},
     "output_type": "display_data"
    },
    {
     "name": "stdout",
     "output_type": "stream",
     "text": [
      "15140 0\n"
     ]
    },
    {
     "data": {
      "image/jpeg": "[encoded data removed]",
      "image/png": "[encoded data removed]",
      "text/plain": [
       "<PIL.Image.Image image mode=L size=28x28>"
      ]
     },
     "metadata": {},
     "output_type": "display_data"
    }
   ],
   "source": [
    "for i in top_5:\n",
    "    print(i['dist'],i['label'])\n",
    "    display(i['image'])"
   ]
  },
  {
   "cell_type": "code",
   "execution_count": 88,
   "id": "1020f85b",
   "metadata": {
    "papermill": {
     "duration": 63.562619,
     "end_time": "2024-09-16T11:14:10.355768",
     "exception": false,
     "start_time": "2024-09-16T11:13:06.793149",
     "status": "completed"
    },
    "tags": []
   },
   "outputs": [
    {
     "name": "stdout",
     "output_type": "stream",
     "text": [
      "(60000, 785)\n",
      "Number of times got right: 73\n",
      "Number of times got wrong: 27\n"
     ]
    }
   ],
   "source": [
    "print(df.shape)\n",
    "num_got_right = 0\n",
    "num_got_wrong = 0\n",
    "#Надо переместить results внутрь цикла, чтобы сбрасывать его, не использовать распределение старого тестового изображения\n",
    "for i_test, row_test in test_df[:100].iterrows():\n",
    "    results = []\n",
    "    test_image_list = row_test.to_list()[1:]\n",
    "    for i,row in df[:1000].iterrows():\n",
    "        label = row.iloc[0]\n",
    "        image = drawImageFromRow(row)\n",
    "        #display(image)\n",
    "        dist = 0\n",
    "        train_image_list = row.tolist()[1:]\n",
    "        for i in range(len(test_image_list)):\n",
    "            dist = dist + abs(train_image_list[i]-test_image_list[i])\n",
    "        #print(dist)\n",
    "        results.append({\"image\":image,\"dist\":dist,\"label\":label})\n",
    "    # results\n",
    "    top_5 = sorted(results, key=lambda d: d['dist'], reverse=False)[:5]\n",
    "    # display(top_5[0]['image'], top_5[0]['label'], top_5[1]['image'], top_5[1]['label'], top_5[2]['image'], top_5[2]['label'], top_5[3]['image'], top_5[3]['label'], top_5[4]['image'], top_5[4]['label'])\n",
    "    # display(drawImageFromRow(row_test))\n",
    "    top_5 = [item['label'] for item in top_5]\n",
    "    # top_5\n",
    "    # print(\"Real label of test image:\", row_test.iloc[0])\n",
    "    # print(\"Supposed label of test image:\", max(set(top_5), key=top_5.count))\n",
    "    if row_test.iloc[0] == max(set(top_5), key=top_5.count):\n",
    "        num_got_right = num_got_right + 1\n",
    "    else:\n",
    "        num_got_wrong = num_got_wrong + 1\n",
    "    # print()\n",
    "print(\"Number of times got right:\", num_got_right)\n",
    "print(\"Number of times got wrong:\", num_got_wrong)"
   ]
  },
  {
   "cell_type": "code",
   "execution_count": 89,
   "id": "c21b5148-cc9c-473a-b552-9a303a7b9db3",
   "metadata": {},
   "outputs": [
    {
     "name": "stdout",
     "output_type": "stream",
     "text": [
      "(60000, 785)\n",
      "Number of times got right: 72\n",
      "Number of times got wrong: 28\n"
     ]
    }
   ],
   "source": [
    "#EUCLIDIAN FORMULA\n",
    "print(df.shape)\n",
    "num_got_right = 0\n",
    "num_got_wrong = 0\n",
    "#Надо переместить results внутрь цикла, чтобы сбрасывать его, не использовать распределение старого тестового изображения\n",
    "for i_test, row_test in test_df[:100].iterrows():\n",
    "    results = []\n",
    "    test_image_list = row_test.to_list()[1:]\n",
    "    for i,row in df[:1000].iterrows():\n",
    "        label = row.iloc[0]\n",
    "        image = drawImageFromRow(row)\n",
    "        #display(image)\n",
    "        dist = 0\n",
    "        train_image_list = row.tolist()[1:]\n",
    "        for i in range(len(test_image_list)):\n",
    "            dist += (train_image_list[i]-test_image_list[i]) ** 2\n",
    "        #print(dist)\n",
    "        results.append({\"image\":image,\"dist\":dist,\"label\":label})\n",
    "    # results\n",
    "    top_5 = sorted(results, key=lambda d: d['dist'], reverse=False)[:5]\n",
    "    # display(top_5[0]['image'], top_5[0]['label'], top_5[1]['image'], top_5[1]['label'], top_5[2]['image'], top_5[2]['label'], top_5[3]['image'], top_5[3]['label'], top_5[4]['image'], top_5[4]['label'])\n",
    "    # display(drawImageFromRow(row_test))\n",
    "    top_5 = [item['label'] for item in top_5]\n",
    "    # top_5\n",
    "    # print(\"Real label of test image:\", row_test.iloc[0])\n",
    "    # print(\"Supposed label of test image:\", max(set(top_5), key=top_5.count))\n",
    "    if row_test.iloc[0] == max(set(top_5), key=top_5.count):\n",
    "        num_got_right += 1\n",
    "    else:\n",
    "        num_got_wrong += 1\n",
    "    # print()\n",
    "print(\"Number of times got right:\", num_got_right)\n",
    "print(\"Number of times got wrong:\", num_got_wrong)"
   ]
  },
  {
   "cell_type": "code",
   "execution_count": 110,
   "id": "c7b3609e-1886-459e-bc0c-eebd1cb628e0",
   "metadata": {},
   "outputs": [
    {
     "name": "stdout",
     "output_type": "stream",
     "text": [
      "(60000, 785)\n",
      "Number of times got right: 73\n",
      "Number of times got wrong: 27\n"
     ]
    }
   ],
   "source": [
    "#COSINE FORMULA\n",
    "print(df.shape)\n",
    "num_got_right = 0\n",
    "num_got_wrong = 0\n",
    "#Надо переместить results внутрь цикла, чтобы сбрасывать его, не использовать распределение старого тестового изображения\n",
    "for i_test, row_test in test_df[:100].iterrows():\n",
    "    results = []\n",
    "    test_image_list = row_test.to_list()[1:]\n",
    "    for i,row in df[:100].iterrows():\n",
    "        label = row.iloc[0]\n",
    "        image = drawImageFromRow(row)\n",
    "        #display(image)\n",
    "        dist = 0\n",
    "        train_image_list = row.tolist()[1:]\n",
    "\n",
    "        #Перемножение массивов\n",
    "        multiplied_arrays = 0\n",
    "        for i in range(len(train_image_list)):\n",
    "            multiplied_arrays += train_image_list[i] * test_image_list[i]\n",
    "\n",
    "        #Нормализация\n",
    "        square_summary_train_image = 0\n",
    "        for elem in train_image_list:\n",
    "            square_summary_train_image += elem ** 2\n",
    "        square_summary_train_image **= 0.5\n",
    "\n",
    "        square_summary_test_image = 0\n",
    "        for elem in test_image_list:\n",
    "            square_summary_test_image += elem ** 2\n",
    "        square_summary_test_image **= 0.5\n",
    "\n",
    "        #Формула\n",
    "        dist = 1 - multiplied_arrays / (square_summary_train_image * square_summary_test_image)\n",
    "    \n",
    "        #print(dist)\n",
    "        results.append({\"image\":image,\"dist\":dist,\"label\":label})\n",
    "    # results\n",
    "    top_5 = sorted(results, key=lambda d: d['dist'], reverse=False)[:5]\n",
    "    # display(top_5[0]['image'], top_5[0]['label'], top_5[1]['image'], top_5[1]['label'], top_5[2]['image'], top_5[2]['label'], top_5[3]['image'], top_5[3]['label'], top_5[4]['image'], top_5[4]['label'])\n",
    "    # display(drawImageFromRow(row_test))\n",
    "    top_5 = [item['label'] for item in top_5]\n",
    "    # top_5\n",
    "    # print(\"Real label of test image:\", row_test.iloc[0])\n",
    "    # print(\"Supposed label of test image:\", max(set(top_5), key=top_5.count))\n",
    "    if row_test.iloc[0] == max(set(top_5), key=top_5.count):\n",
    "        num_got_right += 1\n",
    "    else:\n",
    "        num_got_wrong += 1\n",
    "    # print()\n",
    "print(\"Number of times got right:\", num_got_right)\n",
    "print(\"Number of times got wrong:\", num_got_wrong)"
   ]
  },
  {
   "cell_type": "code",
   "execution_count": 115,
   "id": "e4e717cd-3bec-4909-a3c5-fcfdcc7645e7",
   "metadata": {},
   "outputs": [
    {
     "name": "stdout",
     "output_type": "stream",
     "text": [
      "(60000, 785)\n",
      "Number of times got right: 13\n",
      "Number of times got wrong: 87\n"
     ]
    }
   ],
   "source": [
    "#JACCARD FORMULA\n",
    "print(df.shape)\n",
    "num_got_right = 0\n",
    "num_got_wrong = 0\n",
    "#Надо переместить results внутрь цикла, чтобы сбрасывать его, не использовать распределение старого тестового изображения\n",
    "for i_test, row_test in test_df[:100].iterrows():\n",
    "    results = []\n",
    "    test_image_list = row_test.to_list()[1:]\n",
    "    for i,row in df[:100].iterrows():\n",
    "        label = row.iloc[0]\n",
    "        image = drawImageFromRow(row)\n",
    "        #display(image)\n",
    "        dist = 0\n",
    "        train_image_list = row.tolist()[1:]\n",
    "        # for i in range(len(test_image_list)):\n",
    "        intersection = []\n",
    "        for elem in test_image_list:\n",
    "            if elem in train_image_list and elem not in intersection:\n",
    "                intersection.append(elem)\n",
    "\n",
    "        union = []\n",
    "        union = list(test_image_list)\n",
    "        for elem in train_image_list:\n",
    "            if elem not in union:\n",
    "                union.append(elem)\n",
    "\n",
    "        if union:\n",
    "            dist =  (len(intersection) / len(union))\n",
    "            # dist = len(intersection) / (len(test_image_list) + len(train_image_list) - len(intersection))\n",
    "        else:\n",
    "            dist = 0\n",
    "        \n",
    "        #print(dist)\n",
    "        results.append({\"image\":image,\"dist\":dist,\"label\":label})\n",
    "    # results\n",
    "    top_5 = sorted(results, key=lambda d: d['dist'], reverse=False)[:5]\n",
    "    # display(top_5[0]['image'], top_5[0]['label'], top_5[1]['image'], top_5[1]['label'], top_5[2]['image'], top_5[2]['label'], top_5[3]['image'], top_5[3]['label'], top_5[4]['image'], top_5[4]['label'])\n",
    "    # display(drawImageFromRow(row_test))\n",
    "    top_5 = [item['label'] for item in top_5]\n",
    "    # top_5\n",
    "    # print(\"Real label of test image:\", row_test.iloc[0])\n",
    "    # print(\"Supposed label of test image:\", max(set(top_5), key=top_5.count))\n",
    "    if row_test.iloc[0] == max(set(top_5), key=top_5.count):\n",
    "        num_got_right += 1\n",
    "    else:\n",
    "        num_got_wrong += 1\n",
    "    # print()\n",
    "print(\"Number of times got right:\", num_got_right)\n",
    "print(\"Number of times got wrong:\", num_got_wrong)"
   ]
  },
  {
   "cell_type": "code",
   "execution_count": 15,
   "id": "b3627c16",
   "metadata": {
    "execution": {
     "iopub.execute_input": "2024-09-16T11:14:10.399607Z",
     "iopub.status.busy": "2024-09-16T11:14:10.399163Z",
     "iopub.status.idle": "2024-09-16T11:49:15.079954Z",
     "shell.execute_reply": "2024-09-16T11:49:15.078650Z"
    },
    "papermill": {
     "duration": 2104.734558,
     "end_time": "2024-09-16T11:49:15.111466",
     "exception": false,
     "start_time": "2024-09-16T11:14:10.376908",
     "status": "completed"
    },
    "tags": []
   },
   "outputs": [
    {
     "name": "stdout",
     "output_type": "stream",
     "text": [
      "(60000, 785)\n",
      "0\n",
      "1\n",
      "1\n",
      "1\n",
      "1\n",
      "1\n",
      "1\n",
      "1\n",
      "1\n",
      "1\n",
      "1\n",
      "1\n",
      "1\n",
      "1\n",
      "1\n",
      "1\n",
      "1\n",
      "1\n",
      "1\n",
      "1\n",
      "1\n",
      "1\n",
      "1\n",
      "1\n",
      "1\n",
      "1\n",
      "1\n",
      "1\n",
      "1\n",
      "1\n",
      "1\n",
      "1\n",
      "1\n",
      "1\n",
      "1\n",
      "1\n",
      "1\n",
      "1\n",
      "1\n",
      "1\n",
      "1\n",
      "1\n",
      "1\n",
      "1\n",
      "1\n",
      "1\n",
      "3\n",
      "3\n",
      "3\n",
      "3\n",
      "3\n",
      "3\n",
      "3\n",
      "3\n",
      "3\n",
      "3\n",
      "3\n",
      "3\n",
      "3\n",
      "3\n",
      "3\n",
      "3\n",
      "3\n",
      "3\n",
      "3\n",
      "3\n",
      "3\n",
      "3\n",
      "3\n",
      "3\n",
      "3\n",
      "3\n",
      "3\n",
      "3\n",
      "3\n",
      "3\n",
      "3\n",
      "3\n",
      "3\n",
      "3\n",
      "3\n",
      "3\n",
      "3\n",
      "3\n",
      "3\n",
      "3\n",
      "3\n",
      "3\n",
      "3\n",
      "3\n",
      "3\n",
      "3\n",
      "3\n",
      "3\n",
      "3\n",
      "3\n",
      "3\n",
      "3\n",
      "3\n",
      "3\n"
     ]
    }
   ],
   "source": [
    "import time\n",
    "print(df.shape)\n",
    "results = []\n",
    "for i_test, row_test in test_df[:100].iterrows():\n",
    "    test_image_list = row_test.to_list()[1:]\n",
    "    for i,row in df[:].iterrows():\n",
    "        label = row.iloc[0]\n",
    "        train_image_np = np.array(row.tolist()[1:])\n",
    "        test_image_np = np.array(test_image_list)\n",
    "        result_np = np.sum(np.abs(train_image_np - test_image_np))\n",
    "        '''\n",
    "        dist = 0\n",
    "        train_image_list = row.tolist()[1:]\n",
    "        for i in range(len(test_image_list)):\n",
    "            dist = dist + abs(train_image_list[i]-test_image_list[i])\n",
    "        #print(dist)\n",
    "        print(result_np,dist)\n",
    "        '''\n",
    "        results.append({\"image\":image,\"dist\":result_np,\"label\":label})\n",
    "    results\n",
    "    top_5 = sorted(results, key=lambda d: d['dist'], reverse=False)[:5]\n",
    "    top_5 = [item['label'] for item in top_5]\n",
    "    print(max(set(top_5), key=top_5.count))"
   ]
  },
  {
   "cell_type": "code",
   "execution_count": null,
   "id": "d1b95071",
   "metadata": {
    "papermill": {
     "duration": 0.029518,
     "end_time": "2024-09-16T11:49:15.170925",
     "exception": false,
     "start_time": "2024-09-16T11:49:15.141407",
     "status": "completed"
    },
    "tags": []
   },
   "outputs": [],
   "source": []
  }
 ],
 "metadata": {
  "kaggle": {
   "accelerator": "none",
   "dataSources": [
    {
     "datasetId": 2243,
     "sourceId": 9243,
     "sourceType": "datasetVersion"
    }
   ],
   "dockerImageVersionId": 30761,
   "isGpuEnabled": false,
   "isInternetEnabled": true,
   "language": "python",
   "sourceType": "notebook"
  },
  "kernelspec": {
   "display_name": "Python 3 (ipykernel)",
   "language": "python",
   "name": "python3"
  },
  "language_info": {
   "codemirror_mode": {
    "name": "ipython",
    "version": 3
   },
   "file_extension": ".py",
   "mimetype": "text/x-python",
   "name": "python",
   "nbconvert_exporter": "python",
   "pygments_lexer": "ipython3",
   "version": "3.12.6"
  },
  "papermill": {
   "default_parameters": {},
   "duration": 2219.293139,
   "end_time": "2024-09-16T11:49:17.530984",
   "environment_variables": {},
   "exception": null,
   "input_path": "__notebook__.ipynb",
   "output_path": "__notebook__.ipynb",
   "parameters": {},
   "start_time": "2024-09-16T11:12:18.237845",
   "version": "2.6.0"
  }
 },
 "nbformat": 4,
 "nbformat_minor": 5
}
